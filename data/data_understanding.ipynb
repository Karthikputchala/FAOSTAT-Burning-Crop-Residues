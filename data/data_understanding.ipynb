{
  "cells": [
    {
      "cell_type": "code",
      "execution_count": 1,
      "metadata": {
        "id": "OQXTyT_NnpxJ"
      },
      "outputs": [],
      "source": [
        "import pandas as pd\n",
        "import numpy as np\n",
        "import matplotlib.pylab as plt\n",
        "import seaborn as sns"
      ]
    },
    {
      "cell_type": "code",
      "execution_count": null,
      "metadata": {
        "id": "PcMb3etkn8G9"
      },
      "outputs": [],
      "source": [
        "df = pd.read_csv(\"/content/Emissions_Agriculture_Burning_crop_residues_E_All_Data_(Normalized).csv\",encoding='ISO-8859-1')"
      ]
    },
    {
      "cell_type": "code",
      "execution_count": null,
      "metadata": {},
      "outputs": [],
      "source": [
        "df = pd.read_csv(r\"C:\\Users\\personal\\Projects\\FAOSTAT\\Emissions_Agriculture_Burning_crop_residues_E_All_Data_(Normalized).csv\", \n",
        "                 encoding='ISO-8859-1', low_memory=False)"
      ]
    },
    {
      "cell_type": "markdown",
      "metadata": {
        "id": "9z7ej6BSs18L"
      },
      "source": [
        "# **Step-1: Data Understanding**"
      ]
    },
    {
      "cell_type": "code",
      "execution_count": 9,
      "metadata": {
        "colab": {
          "base_uri": "https://localhost:8080/",
          "height": 206
        },
        "id": "Cf4Pnknhpmab",
        "outputId": "0fcd8101-a156-4d3e-d907-9362356f82c5"
      },
      "outputs": [
        {
          "data": {
            "text/html": [
              "\n",
              "  <div id=\"df-0596e9d3-8449-4128-83f1-8f25ff93d5ae\">\n",
              "    <div class=\"colab-df-container\">\n",
              "      <div>\n",
              "<style scoped>\n",
              "    .dataframe tbody tr th:only-of-type {\n",
              "        vertical-align: middle;\n",
              "    }\n",
              "\n",
              "    .dataframe tbody tr th {\n",
              "        vertical-align: top;\n",
              "    }\n",
              "\n",
              "    .dataframe thead th {\n",
              "        text-align: right;\n",
              "    }\n",
              "</style>\n",
              "<table border=\"1\" class=\"dataframe\">\n",
              "  <thead>\n",
              "    <tr style=\"text-align: right;\">\n",
              "      <th></th>\n",
              "      <th>Area Code</th>\n",
              "      <th>Area Code (M49)</th>\n",
              "      <th>Area</th>\n",
              "      <th>Item Code</th>\n",
              "      <th>Item Code (CPC)</th>\n",
              "      <th>Item</th>\n",
              "      <th>Element Code</th>\n",
              "      <th>Element</th>\n",
              "      <th>Year Code</th>\n",
              "      <th>Year</th>\n",
              "      <th>Source Code</th>\n",
              "      <th>Source</th>\n",
              "      <th>Unit</th>\n",
              "      <th>Value</th>\n",
              "      <th>Flag</th>\n",
              "      <th>Note</th>\n",
              "    </tr>\n",
              "  </thead>\n",
              "  <tbody>\n",
              "    <tr>\n",
              "      <th>0</th>\n",
              "      <td>2</td>\n",
              "      <td>'004</td>\n",
              "      <td>Afghanistan</td>\n",
              "      <td>1712</td>\n",
              "      <td>'F1712</td>\n",
              "      <td>All Crops</td>\n",
              "      <td>7245</td>\n",
              "      <td>Biomass burned (dry matter)</td>\n",
              "      <td>1961</td>\n",
              "      <td>1961</td>\n",
              "      <td>3050</td>\n",
              "      <td>FAO TIER 1</td>\n",
              "      <td>tonnes</td>\n",
              "      <td>1508670.0</td>\n",
              "      <td>E</td>\n",
              "      <td>NaN</td>\n",
              "    </tr>\n",
              "    <tr>\n",
              "      <th>1</th>\n",
              "      <td>2</td>\n",
              "      <td>'004</td>\n",
              "      <td>Afghanistan</td>\n",
              "      <td>1712</td>\n",
              "      <td>'F1712</td>\n",
              "      <td>All Crops</td>\n",
              "      <td>7245</td>\n",
              "      <td>Biomass burned (dry matter)</td>\n",
              "      <td>1962</td>\n",
              "      <td>1962</td>\n",
              "      <td>3050</td>\n",
              "      <td>FAO TIER 1</td>\n",
              "      <td>tonnes</td>\n",
              "      <td>1553070.0</td>\n",
              "      <td>E</td>\n",
              "      <td>NaN</td>\n",
              "    </tr>\n",
              "    <tr>\n",
              "      <th>2</th>\n",
              "      <td>2</td>\n",
              "      <td>'004</td>\n",
              "      <td>Afghanistan</td>\n",
              "      <td>1712</td>\n",
              "      <td>'F1712</td>\n",
              "      <td>All Crops</td>\n",
              "      <td>7245</td>\n",
              "      <td>Biomass burned (dry matter)</td>\n",
              "      <td>1963</td>\n",
              "      <td>1963</td>\n",
              "      <td>3050</td>\n",
              "      <td>FAO TIER 1</td>\n",
              "      <td>tonnes</td>\n",
              "      <td>1553070.0</td>\n",
              "      <td>E</td>\n",
              "      <td>NaN</td>\n",
              "    </tr>\n",
              "    <tr>\n",
              "      <th>3</th>\n",
              "      <td>2</td>\n",
              "      <td>'004</td>\n",
              "      <td>Afghanistan</td>\n",
              "      <td>1712</td>\n",
              "      <td>'F1712</td>\n",
              "      <td>All Crops</td>\n",
              "      <td>7245</td>\n",
              "      <td>Biomass burned (dry matter)</td>\n",
              "      <td>1964</td>\n",
              "      <td>1964</td>\n",
              "      <td>3050</td>\n",
              "      <td>FAO TIER 1</td>\n",
              "      <td>tonnes</td>\n",
              "      <td>1565170.0</td>\n",
              "      <td>E</td>\n",
              "      <td>NaN</td>\n",
              "    </tr>\n",
              "    <tr>\n",
              "      <th>4</th>\n",
              "      <td>2</td>\n",
              "      <td>'004</td>\n",
              "      <td>Afghanistan</td>\n",
              "      <td>1712</td>\n",
              "      <td>'F1712</td>\n",
              "      <td>All Crops</td>\n",
              "      <td>7245</td>\n",
              "      <td>Biomass burned (dry matter)</td>\n",
              "      <td>1965</td>\n",
              "      <td>1965</td>\n",
              "      <td>3050</td>\n",
              "      <td>FAO TIER 1</td>\n",
              "      <td>tonnes</td>\n",
              "      <td>1561100.0</td>\n",
              "      <td>E</td>\n",
              "      <td>NaN</td>\n",
              "    </tr>\n",
              "  </tbody>\n",
              "</table>\n",
              "</div>\n",
              "      <button class=\"colab-df-convert\" onclick=\"convertToInteractive('df-0596e9d3-8449-4128-83f1-8f25ff93d5ae')\"\n",
              "              title=\"Convert this dataframe to an interactive table.\"\n",
              "              style=\"display:none;\">\n",
              "        \n",
              "  <svg xmlns=\"http://www.w3.org/2000/svg\" height=\"24px\"viewBox=\"0 0 24 24\"\n",
              "       width=\"24px\">\n",
              "    <path d=\"M0 0h24v24H0V0z\" fill=\"none\"/>\n",
              "    <path d=\"M18.56 5.44l.94 2.06.94-2.06 2.06-.94-2.06-.94-.94-2.06-.94 2.06-2.06.94zm-11 1L8.5 8.5l.94-2.06 2.06-.94-2.06-.94L8.5 2.5l-.94 2.06-2.06.94zm10 10l.94 2.06.94-2.06 2.06-.94-2.06-.94-.94-2.06-.94 2.06-2.06.94z\"/><path d=\"M17.41 7.96l-1.37-1.37c-.4-.4-.92-.59-1.43-.59-.52 0-1.04.2-1.43.59L10.3 9.45l-7.72 7.72c-.78.78-.78 2.05 0 2.83L4 21.41c.39.39.9.59 1.41.59.51 0 1.02-.2 1.41-.59l7.78-7.78 2.81-2.81c.8-.78.8-2.07 0-2.86zM5.41 20L4 18.59l7.72-7.72 1.47 1.35L5.41 20z\"/>\n",
              "  </svg>\n",
              "      </button>\n",
              "      \n",
              "  <style>\n",
              "    .colab-df-container {\n",
              "      display:flex;\n",
              "      flex-wrap:wrap;\n",
              "      gap: 12px;\n",
              "    }\n",
              "\n",
              "    .colab-df-convert {\n",
              "      background-color: #E8F0FE;\n",
              "      border: none;\n",
              "      border-radius: 50%;\n",
              "      cursor: pointer;\n",
              "      display: none;\n",
              "      fill: #1967D2;\n",
              "      height: 32px;\n",
              "      padding: 0 0 0 0;\n",
              "      width: 32px;\n",
              "    }\n",
              "\n",
              "    .colab-df-convert:hover {\n",
              "      background-color: #E2EBFA;\n",
              "      box-shadow: 0px 1px 2px rgba(60, 64, 67, 0.3), 0px 1px 3px 1px rgba(60, 64, 67, 0.15);\n",
              "      fill: #174EA6;\n",
              "    }\n",
              "\n",
              "    [theme=dark] .colab-df-convert {\n",
              "      background-color: #3B4455;\n",
              "      fill: #D2E3FC;\n",
              "    }\n",
              "\n",
              "    [theme=dark] .colab-df-convert:hover {\n",
              "      background-color: #434B5C;\n",
              "      box-shadow: 0px 1px 3px 1px rgba(0, 0, 0, 0.15);\n",
              "      filter: drop-shadow(0px 1px 2px rgba(0, 0, 0, 0.3));\n",
              "      fill: #FFFFFF;\n",
              "    }\n",
              "  </style>\n",
              "\n",
              "      <script>\n",
              "        const buttonEl =\n",
              "          document.querySelector('#df-0596e9d3-8449-4128-83f1-8f25ff93d5ae button.colab-df-convert');\n",
              "        buttonEl.style.display =\n",
              "          google.colab.kernel.accessAllowed ? 'block' : 'none';\n",
              "\n",
              "        async function convertToInteractive(key) {\n",
              "          const element = document.querySelector('#df-0596e9d3-8449-4128-83f1-8f25ff93d5ae');\n",
              "          const dataTable =\n",
              "            await google.colab.kernel.invokeFunction('convertToInteractive',\n",
              "                                                     [key], {});\n",
              "          if (!dataTable) return;\n",
              "\n",
              "          const docLinkHtml = 'Like what you see? Visit the ' +\n",
              "            '<a target=\"_blank\" href=https://colab.research.google.com/notebooks/data_table.ipynb>data table notebook</a>'\n",
              "            + ' to learn more about interactive tables.';\n",
              "          element.innerHTML = '';\n",
              "          dataTable['output_type'] = 'display_data';\n",
              "          await google.colab.output.renderOutput(dataTable, element);\n",
              "          const docLink = document.createElement('div');\n",
              "          docLink.innerHTML = docLinkHtml;\n",
              "          element.appendChild(docLink);\n",
              "        }\n",
              "      </script>\n",
              "    </div>\n",
              "  </div>\n",
              "  "
            ],
            "text/plain": [
              "   Area Code Area Code (M49)         Area  Item Code Item Code (CPC)  \\\n",
              "0          2            '004  Afghanistan       1712          'F1712   \n",
              "1          2            '004  Afghanistan       1712          'F1712   \n",
              "2          2            '004  Afghanistan       1712          'F1712   \n",
              "3          2            '004  Afghanistan       1712          'F1712   \n",
              "4          2            '004  Afghanistan       1712          'F1712   \n",
              "\n",
              "        Item  Element Code                      Element  Year Code  Year  \\\n",
              "0  All Crops          7245  Biomass burned (dry matter)       1961  1961   \n",
              "1  All Crops          7245  Biomass burned (dry matter)       1962  1962   \n",
              "2  All Crops          7245  Biomass burned (dry matter)       1963  1963   \n",
              "3  All Crops          7245  Biomass burned (dry matter)       1964  1964   \n",
              "4  All Crops          7245  Biomass burned (dry matter)       1965  1965   \n",
              "\n",
              "   Source Code      Source    Unit      Value Flag Note  \n",
              "0         3050  FAO TIER 1  tonnes  1508670.0    E  NaN  \n",
              "1         3050  FAO TIER 1  tonnes  1553070.0    E  NaN  \n",
              "2         3050  FAO TIER 1  tonnes  1553070.0    E  NaN  \n",
              "3         3050  FAO TIER 1  tonnes  1565170.0    E  NaN  \n",
              "4         3050  FAO TIER 1  tonnes  1561100.0    E  NaN  "
            ]
          },
          "execution_count": 9,
          "metadata": {},
          "output_type": "execute_result"
        }
      ],
      "source": [
        "df.head()"
      ]
    },
    {
      "cell_type": "code",
      "execution_count": 10,
      "metadata": {
        "colab": {
          "base_uri": "https://localhost:8080/"
        },
        "id": "gH6FilbWpsIN",
        "outputId": "7fce6a35-5ab6-49e6-809e-0daeaf494cb0"
      },
      "outputs": [
        {
          "data": {
            "text/plain": [
              "Index(['Area Code', 'Area Code (M49)', 'Area', 'Item Code', 'Item Code (CPC)',\n",
              "       'Item', 'Element Code', 'Element', 'Year Code', 'Year', 'Source Code',\n",
              "       'Source', 'Unit', 'Value', 'Flag', 'Note'],\n",
              "      dtype='object')"
            ]
          },
          "execution_count": 10,
          "metadata": {},
          "output_type": "execute_result"
        }
      ],
      "source": [
        "df.columns"
      ]
    },
    {
      "cell_type": "code",
      "execution_count": 12,
      "metadata": {
        "colab": {
          "base_uri": "https://localhost:8080/"
        },
        "id": "UjO5bieYqUj5",
        "outputId": "e590436c-7362-4c80-db85-4d07aba71ee5"
      },
      "outputs": [
        {
          "data": {
            "text/plain": [
              "Area Code            int64\n",
              "Area Code (M49)     object\n",
              "Area                object\n",
              "Item Code            int64\n",
              "Item Code (CPC)     object\n",
              "Item                object\n",
              "Element Code         int64\n",
              "Element             object\n",
              "Year Code            int64\n",
              "Year                 int64\n",
              "Source Code          int64\n",
              "Source              object\n",
              "Unit                object\n",
              "Value              float64\n",
              "Flag                object\n",
              "Note                object\n",
              "dtype: object"
            ]
          },
          "execution_count": 12,
          "metadata": {},
          "output_type": "execute_result"
        }
      ],
      "source": [
        "df.dtypes"
      ]
    },
    {
      "cell_type": "code",
      "execution_count": 13,
      "metadata": {
        "colab": {
          "base_uri": "https://localhost:8080/",
          "height": 300
        },
        "id": "OH19HsUCrM55",
        "outputId": "063243f3-15e3-46f8-c1f3-72c95735740b"
      },
      "outputs": [
        {
          "data": {
            "text/html": [
              "\n",
              "  <div id=\"df-221cfe4b-62e9-4644-9d1d-31cce22836e0\">\n",
              "    <div class=\"colab-df-container\">\n",
              "      <div>\n",
              "<style scoped>\n",
              "    .dataframe tbody tr th:only-of-type {\n",
              "        vertical-align: middle;\n",
              "    }\n",
              "\n",
              "    .dataframe tbody tr th {\n",
              "        vertical-align: top;\n",
              "    }\n",
              "\n",
              "    .dataframe thead th {\n",
              "        text-align: right;\n",
              "    }\n",
              "</style>\n",
              "<table border=\"1\" class=\"dataframe\">\n",
              "  <thead>\n",
              "    <tr style=\"text-align: right;\">\n",
              "      <th></th>\n",
              "      <th>Area Code</th>\n",
              "      <th>Item Code</th>\n",
              "      <th>Element Code</th>\n",
              "      <th>Year Code</th>\n",
              "      <th>Year</th>\n",
              "      <th>Source Code</th>\n",
              "      <th>Value</th>\n",
              "    </tr>\n",
              "  </thead>\n",
              "  <tbody>\n",
              "    <tr>\n",
              "      <th>count</th>\n",
              "      <td>161314.000000</td>\n",
              "      <td>161314.000000</td>\n",
              "      <td>161314.000000</td>\n",
              "      <td>161314.000000</td>\n",
              "      <td>161314.000000</td>\n",
              "      <td>161314.000000</td>\n",
              "      <td>1.613140e+05</td>\n",
              "    </tr>\n",
              "    <tr>\n",
              "      <th>mean</th>\n",
              "      <td>1171.311306</td>\n",
              "      <td>487.576354</td>\n",
              "      <td>7233.262147</td>\n",
              "      <td>1993.362969</td>\n",
              "      <td>1993.362969</td>\n",
              "      <td>3050.037889</td>\n",
              "      <td>1.482317e+06</td>\n",
              "    </tr>\n",
              "    <tr>\n",
              "      <th>std</th>\n",
              "      <td>2110.923776</td>\n",
              "      <td>724.894587</td>\n",
              "      <td>8.476208</td>\n",
              "      <td>19.048245</td>\n",
              "      <td>19.048245</td>\n",
              "      <td>0.190928</td>\n",
              "      <td>1.110758e+07</td>\n",
              "    </tr>\n",
              "    <tr>\n",
              "      <th>min</th>\n",
              "      <td>1.000000</td>\n",
              "      <td>15.000000</td>\n",
              "      <td>7225.000000</td>\n",
              "      <td>1961.000000</td>\n",
              "      <td>1961.000000</td>\n",
              "      <td>3050.000000</td>\n",
              "      <td>0.000000e+00</td>\n",
              "    </tr>\n",
              "    <tr>\n",
              "      <th>25%</th>\n",
              "      <td>79.000000</td>\n",
              "      <td>27.000000</td>\n",
              "      <td>7225.000000</td>\n",
              "      <td>1978.000000</td>\n",
              "      <td>1978.000000</td>\n",
              "      <td>3050.000000</td>\n",
              "      <td>1.200000e-02</td>\n",
              "    </tr>\n",
              "    <tr>\n",
              "      <th>50%</th>\n",
              "      <td>157.000000</td>\n",
              "      <td>56.000000</td>\n",
              "      <td>7230.000000</td>\n",
              "      <td>1994.000000</td>\n",
              "      <td>1994.000000</td>\n",
              "      <td>3050.000000</td>\n",
              "      <td>6.307000e-01</td>\n",
              "    </tr>\n",
              "    <tr>\n",
              "      <th>75%</th>\n",
              "      <td>234.000000</td>\n",
              "      <td>1712.000000</td>\n",
              "      <td>7245.000000</td>\n",
              "      <td>2008.000000</td>\n",
              "      <td>2008.000000</td>\n",
              "      <td>3050.000000</td>\n",
              "      <td>8.465575e+03</td>\n",
              "    </tr>\n",
              "    <tr>\n",
              "      <th>max</th>\n",
              "      <td>5873.000000</td>\n",
              "      <td>1712.000000</td>\n",
              "      <td>7245.000000</td>\n",
              "      <td>2050.000000</td>\n",
              "      <td>2050.000000</td>\n",
              "      <td>3051.000000</td>\n",
              "      <td>3.970956e+08</td>\n",
              "    </tr>\n",
              "  </tbody>\n",
              "</table>\n",
              "</div>\n",
              "      <button class=\"colab-df-convert\" onclick=\"convertToInteractive('df-221cfe4b-62e9-4644-9d1d-31cce22836e0')\"\n",
              "              title=\"Convert this dataframe to an interactive table.\"\n",
              "              style=\"display:none;\">\n",
              "        \n",
              "  <svg xmlns=\"http://www.w3.org/2000/svg\" height=\"24px\"viewBox=\"0 0 24 24\"\n",
              "       width=\"24px\">\n",
              "    <path d=\"M0 0h24v24H0V0z\" fill=\"none\"/>\n",
              "    <path d=\"M18.56 5.44l.94 2.06.94-2.06 2.06-.94-2.06-.94-.94-2.06-.94 2.06-2.06.94zm-11 1L8.5 8.5l.94-2.06 2.06-.94-2.06-.94L8.5 2.5l-.94 2.06-2.06.94zm10 10l.94 2.06.94-2.06 2.06-.94-2.06-.94-.94-2.06-.94 2.06-2.06.94z\"/><path d=\"M17.41 7.96l-1.37-1.37c-.4-.4-.92-.59-1.43-.59-.52 0-1.04.2-1.43.59L10.3 9.45l-7.72 7.72c-.78.78-.78 2.05 0 2.83L4 21.41c.39.39.9.59 1.41.59.51 0 1.02-.2 1.41-.59l7.78-7.78 2.81-2.81c.8-.78.8-2.07 0-2.86zM5.41 20L4 18.59l7.72-7.72 1.47 1.35L5.41 20z\"/>\n",
              "  </svg>\n",
              "      </button>\n",
              "      \n",
              "  <style>\n",
              "    .colab-df-container {\n",
              "      display:flex;\n",
              "      flex-wrap:wrap;\n",
              "      gap: 12px;\n",
              "    }\n",
              "\n",
              "    .colab-df-convert {\n",
              "      background-color: #E8F0FE;\n",
              "      border: none;\n",
              "      border-radius: 50%;\n",
              "      cursor: pointer;\n",
              "      display: none;\n",
              "      fill: #1967D2;\n",
              "      height: 32px;\n",
              "      padding: 0 0 0 0;\n",
              "      width: 32px;\n",
              "    }\n",
              "\n",
              "    .colab-df-convert:hover {\n",
              "      background-color: #E2EBFA;\n",
              "      box-shadow: 0px 1px 2px rgba(60, 64, 67, 0.3), 0px 1px 3px 1px rgba(60, 64, 67, 0.15);\n",
              "      fill: #174EA6;\n",
              "    }\n",
              "\n",
              "    [theme=dark] .colab-df-convert {\n",
              "      background-color: #3B4455;\n",
              "      fill: #D2E3FC;\n",
              "    }\n",
              "\n",
              "    [theme=dark] .colab-df-convert:hover {\n",
              "      background-color: #434B5C;\n",
              "      box-shadow: 0px 1px 3px 1px rgba(0, 0, 0, 0.15);\n",
              "      filter: drop-shadow(0px 1px 2px rgba(0, 0, 0, 0.3));\n",
              "      fill: #FFFFFF;\n",
              "    }\n",
              "  </style>\n",
              "\n",
              "      <script>\n",
              "        const buttonEl =\n",
              "          document.querySelector('#df-221cfe4b-62e9-4644-9d1d-31cce22836e0 button.colab-df-convert');\n",
              "        buttonEl.style.display =\n",
              "          google.colab.kernel.accessAllowed ? 'block' : 'none';\n",
              "\n",
              "        async function convertToInteractive(key) {\n",
              "          const element = document.querySelector('#df-221cfe4b-62e9-4644-9d1d-31cce22836e0');\n",
              "          const dataTable =\n",
              "            await google.colab.kernel.invokeFunction('convertToInteractive',\n",
              "                                                     [key], {});\n",
              "          if (!dataTable) return;\n",
              "\n",
              "          const docLinkHtml = 'Like what you see? Visit the ' +\n",
              "            '<a target=\"_blank\" href=https://colab.research.google.com/notebooks/data_table.ipynb>data table notebook</a>'\n",
              "            + ' to learn more about interactive tables.';\n",
              "          element.innerHTML = '';\n",
              "          dataTable['output_type'] = 'display_data';\n",
              "          await google.colab.output.renderOutput(dataTable, element);\n",
              "          const docLink = document.createElement('div');\n",
              "          docLink.innerHTML = docLinkHtml;\n",
              "          element.appendChild(docLink);\n",
              "        }\n",
              "      </script>\n",
              "    </div>\n",
              "  </div>\n",
              "  "
            ],
            "text/plain": [
              "           Area Code      Item Code   Element Code      Year Code  \\\n",
              "count  161314.000000  161314.000000  161314.000000  161314.000000   \n",
              "mean     1171.311306     487.576354    7233.262147    1993.362969   \n",
              "std      2110.923776     724.894587       8.476208      19.048245   \n",
              "min         1.000000      15.000000    7225.000000    1961.000000   \n",
              "25%        79.000000      27.000000    7225.000000    1978.000000   \n",
              "50%       157.000000      56.000000    7230.000000    1994.000000   \n",
              "75%       234.000000    1712.000000    7245.000000    2008.000000   \n",
              "max      5873.000000    1712.000000    7245.000000    2050.000000   \n",
              "\n",
              "                Year    Source Code         Value  \n",
              "count  161314.000000  161314.000000  1.613140e+05  \n",
              "mean     1993.362969    3050.037889  1.482317e+06  \n",
              "std        19.048245       0.190928  1.110758e+07  \n",
              "min      1961.000000    3050.000000  0.000000e+00  \n",
              "25%      1978.000000    3050.000000  1.200000e-02  \n",
              "50%      1994.000000    3050.000000  6.307000e-01  \n",
              "75%      2008.000000    3050.000000  8.465575e+03  \n",
              "max      2050.000000    3051.000000  3.970956e+08  "
            ]
          },
          "execution_count": 13,
          "metadata": {},
          "output_type": "execute_result"
        }
      ],
      "source": [
        "df.describe()"
      ]
    },
    {
      "cell_type": "code",
      "execution_count": 14,
      "metadata": {
        "colab": {
          "base_uri": "https://localhost:8080/"
        },
        "id": "D1_6Ov-XsB9S",
        "outputId": "79e8c8f2-85b6-4150-eaea-902845e1b46d"
      },
      "outputs": [
        {
          "name": "stdout",
          "output_type": "stream",
          "text": [
            "<class 'pandas.core.frame.DataFrame'>\n",
            "RangeIndex: 161314 entries, 0 to 161313\n",
            "Data columns (total 16 columns):\n",
            " #   Column           Non-Null Count   Dtype  \n",
            "---  ------           --------------   -----  \n",
            " 0   Area Code        161314 non-null  int64  \n",
            " 1   Area Code (M49)  161314 non-null  object \n",
            " 2   Area             161314 non-null  object \n",
            " 3   Item Code        161314 non-null  int64  \n",
            " 4   Item Code (CPC)  161314 non-null  object \n",
            " 5   Item             161314 non-null  object \n",
            " 6   Element Code     161314 non-null  int64  \n",
            " 7   Element          161314 non-null  object \n",
            " 8   Year Code        161314 non-null  int64  \n",
            " 9   Year             161314 non-null  int64  \n",
            " 10  Source Code      161314 non-null  int64  \n",
            " 11  Source           161314 non-null  object \n",
            " 12  Unit             161314 non-null  object \n",
            " 13  Value            161314 non-null  float64\n",
            " 14  Flag             161314 non-null  object \n",
            " 15  Note             6112 non-null    object \n",
            "dtypes: float64(1), int64(6), object(9)\n",
            "memory usage: 19.7+ MB\n"
          ]
        }
      ],
      "source": [
        "df.info()"
      ]
    },
    {
      "cell_type": "markdown",
      "metadata": {
        "id": "9TMduPMg0URQ"
      },
      "source": [
        "# **Step-2: Analyzing the features**"
      ]
    },
    {
      "cell_type": "markdown",
      "metadata": {
        "id": "0Xcrs1ukyEl_"
      },
      "source": [
        "**Feature: Area**"
      ]
    },
    {
      "cell_type": "code",
      "execution_count": 58,
      "metadata": {
        "colab": {
          "base_uri": "https://localhost:8080/"
        },
        "id": "JjDrKyHNx41t",
        "outputId": "cfb433fd-feb1-4eb9-e9e6-70a4033e251d"
      },
      "outputs": [
        {
          "name": "stdout",
          "output_type": "stream",
          "text": [
            "Number of countries present in Dataset: 243\n",
            "\n",
            "['Afghanistan' 'Albania' 'Algeria' 'American Samoa' 'Angola'\n",
            " 'Antigua and Barbuda' 'Argentina' 'Armenia' 'Australia' 'Austria'\n",
            " 'Azerbaijan' 'Bahamas' 'Bangladesh' 'Barbados' 'Belarus' 'Belgium'\n",
            " 'Belgium-Luxembourg' 'Belize' 'Benin' 'Bhutan'\n",
            " 'Bolivia (Plurinational State of)' 'Bosnia and Herzegovina' 'Botswana'\n",
            " 'Brazil' 'Brunei Darussalam' 'Bulgaria' 'Burkina Faso' 'Burundi'\n",
            " 'Cabo Verde' 'Cambodia' 'Cameroon' 'Canada' 'Central African Republic'\n",
            " 'Chad' 'Chile' 'China' 'China, Hong Kong SAR' 'China, mainland'\n",
            " 'China, Taiwan Province of' 'Colombia' 'Comoros' 'Congo' 'Costa Rica'\n",
            " \"Côte d'Ivoire\" 'Croatia' 'Cuba' 'Cyprus' 'Czechia' 'Czechoslovakia'\n",
            " \"Democratic People's Republic of Korea\"\n",
            " 'Democratic Republic of the Congo' 'Denmark' 'Djibouti' 'Dominica'\n",
            " 'Dominican Republic' 'Ecuador' 'Egypt' 'El Salvador' 'Eritrea' 'Estonia'\n",
            " 'Eswatini' 'Ethiopia' 'Ethiopia PDR' 'Fiji' 'Finland' 'France'\n",
            " 'French Guyana' 'French Polynesia' 'Gabon' 'Gambia' 'Georgia' 'Germany'\n",
            " 'Ghana' 'Greece' 'Grenada' 'Guadeloupe' 'Guam' 'Guatemala' 'Guinea'\n",
            " 'Guinea-Bissau' 'Guyana' 'Haiti' 'Honduras' 'Hungary' 'India' 'Indonesia'\n",
            " 'Iran (Islamic Republic of)' 'Iraq' 'Ireland' 'Israel' 'Italy' 'Jamaica'\n",
            " 'Japan' 'Jordan' 'Kazakhstan' 'Kenya' 'Kuwait' 'Kyrgyzstan'\n",
            " \"Lao People's Democratic Republic\" 'Latvia' 'Lebanon' 'Lesotho' 'Liberia'\n",
            " 'Libya' 'Lithuania' 'Luxembourg' 'Madagascar' 'Malawi' 'Malaysia'\n",
            " 'Maldives' 'Mali' 'Malta' 'Martinique' 'Mauritania' 'Mauritius' 'Mexico'\n",
            " 'Micronesia (Federated States of)' 'Mongolia' 'Montenegro' 'Montserrat'\n",
            " 'Morocco' 'Mozambique' 'Myanmar' 'Namibia' 'Nauru' 'Nepal' 'Netherlands'\n",
            " 'New Caledonia' 'New Zealand' 'Nicaragua' 'Niger' 'Nigeria'\n",
            " 'North Macedonia' 'Norway' 'Oman' 'Pacific Islands Trust Territory'\n",
            " 'Pakistan' 'Palau' 'Palestine' 'Panama' 'Papua New Guinea' 'Paraguay'\n",
            " 'Peru' 'Philippines' 'Poland' 'Portugal' 'Puerto Rico' 'Qatar'\n",
            " 'Republic of Korea' 'Republic of Moldova' 'Réunion' 'Romania'\n",
            " 'Russian Federation' 'Rwanda' 'Saint Kitts and Nevis' 'Saint Lucia'\n",
            " 'Saint Vincent and the Grenadines' 'Samoa' 'Sao Tome and Principe'\n",
            " 'Saudi Arabia' 'Senegal' 'Serbia' 'Serbia and Montenegro' 'Sierra Leone'\n",
            " 'Singapore' 'Slovakia' 'Slovenia' 'Solomon Islands' 'Somalia'\n",
            " 'South Africa' 'South Sudan' 'Spain' 'Sri Lanka' 'Sudan' 'Sudan (former)'\n",
            " 'Suriname' 'Sweden' 'Switzerland' 'Syrian Arab Republic' 'Tajikistan'\n",
            " 'Thailand' 'Timor-Leste' 'Togo' 'Tonga' 'Trinidad and Tobago' 'Tunisia'\n",
            " 'Türkiye' 'Turkmenistan' 'Uganda' 'Ukraine' 'United Arab Emirates'\n",
            " 'United Kingdom of Great Britain and Northern Ireland'\n",
            " 'United Republic of Tanzania' 'United States of America'\n",
            " 'United States Virgin Islands' 'Uruguay' 'USSR' 'Uzbekistan' 'Vanuatu'\n",
            " 'Venezuela (Bolivarian Republic of)' 'Viet Nam'\n",
            " 'Wallis and Futuna Islands' 'Yemen' 'Yugoslav SFR' 'Zambia' 'Zimbabwe'\n",
            " 'World' 'Africa' 'Eastern Africa' 'Middle Africa' 'Northern Africa'\n",
            " 'Southern Africa' 'Western Africa' 'Americas' 'Northern America'\n",
            " 'Central America' 'Caribbean' 'South America' 'Asia' 'Central Asia'\n",
            " 'Eastern Asia' 'Southern Asia' 'South-eastern Asia' 'Western Asia'\n",
            " 'Europe' 'Eastern Europe' 'Northern Europe' 'Southern Europe'\n",
            " 'Western Europe' 'Oceania' 'Australia and New Zealand' 'Melanesia'\n",
            " 'Micronesia' 'Polynesia' 'European Union (27)'\n",
            " 'Least Developed Countries' 'Land Locked Developing Countries'\n",
            " 'Small Island Developing States' 'Low Income Food Deficit Countries'\n",
            " 'Net Food Importing Developing Countries' 'Annex I countries'\n",
            " 'Non-Annex I countries' 'OECD']\n"
          ]
        }
      ],
      "source": [
        "# Number of Countries Present in a Dataset\n",
        "number_of_countries = len(df['Area'].value_counts())\n",
        "print('Number of countries present in Dataset: {}'.format(number_of_countries))\n",
        "print()\n",
        "# List of Countries Present in a Dataset\n",
        "countries = df.Area.unique()\n",
        "print(df.Area.unique())"
      ]
    },
    {
      "cell_type": "markdown",
      "metadata": {
        "id": "4Yf7tEOYySgy"
      },
      "source": [
        "**Feature: Item**"
      ]
    },
    {
      "cell_type": "code",
      "execution_count": 56,
      "metadata": {
        "colab": {
          "base_uri": "https://localhost:8080/"
        },
        "id": "JC5nDZubyK25",
        "outputId": "2008570f-b796-4d4f-9cd5-8a6ec1e22358"
      },
      "outputs": [
        {
          "name": "stdout",
          "output_type": "stream",
          "text": [
            "['All Crops' 'Maize (corn)' 'Rice' 'Sugar cane' 'Wheat']\n"
          ]
        }
      ],
      "source": [
        "# Type of Items (crops) in the dataset\n",
        "crops = df.Item.unique()\n",
        "print(df.Item.unique())"
      ]
    },
    {
      "cell_type": "markdown",
      "metadata": {
        "id": "Uy51XWNHydVJ"
      },
      "source": [
        "**Feature: Element**"
      ]
    },
    {
      "cell_type": "code",
      "execution_count": 36,
      "metadata": {
        "colab": {
          "base_uri": "https://localhost:8080/"
        },
        "id": "LTsePCNUyK1K",
        "outputId": "60fbd4b0-884a-4502-ec12-93af55f8142f"
      },
      "outputs": [
        {
          "name": "stdout",
          "output_type": "stream",
          "text": [
            "['Biomass burned (dry matter)' 'Emissions (N2O)' 'Emissions (CH4)']\n"
          ]
        }
      ],
      "source": [
        "# Types of Emissions in dataset\n",
        "print(df.Element.unique())"
      ]
    },
    {
      "cell_type": "markdown",
      "metadata": {
        "id": "UscmBp6myiAb"
      },
      "source": [
        "**Feature: Year**"
      ]
    },
    {
      "cell_type": "code",
      "execution_count": 37,
      "metadata": {
        "colab": {
          "base_uri": "https://localhost:8080/"
        },
        "id": "GSprflsmyi8D",
        "outputId": "defa8e5e-f13c-403f-8a33-e6ca3fdfd308"
      },
      "outputs": [
        {
          "name": "stdout",
          "output_type": "stream",
          "text": [
            "[1961 1962 1963 1964 1965 1966 1967 1968 1969 1970 1971 1972 1973 1974\n",
            " 1975 1976 1977 1978 1979 1980 1981 1982 1983 1984 1985 1986 1987 1988\n",
            " 1989 1990 1991 1992 1993 1994 1995 1996 1997 1998 1999 2000 2001 2002\n",
            " 2003 2004 2005 2006 2007 2008 2009 2010 2011 2012 2013 2014 2015 2016\n",
            " 2017 2018 2019 2020 2030 2050]\n"
          ]
        }
      ],
      "source": [
        "# Types of Year in dataset\n",
        "print(df.Year.unique())"
      ]
    },
    {
      "cell_type": "markdown",
      "metadata": {
        "id": "mgY5DKcZ2sFa"
      },
      "source": [
        "**Feature: Value**"
      ]
    },
    {
      "cell_type": "code",
      "execution_count": 40,
      "metadata": {
        "colab": {
          "base_uri": "https://localhost:8080/"
        },
        "id": "0JuZxxgC2rqS",
        "outputId": "9261b090-971a-4737-bed5-49aa2b4e70f0"
      },
      "outputs": [
        {
          "name": "stdout",
          "output_type": "stream",
          "text": [
            "Minimum value of all values in Value feature: 0.0\n",
            "Maximum value of all values in Value feature: 397095606.65\n"
          ]
        }
      ],
      "source": [
        "# Range of Values\n",
        "print(\"Minimum value of all values in Value feature: {}\".format(min(df['Value'])))\n",
        "print(\"Maximum value of all values in Value feature: {}\".format(max(df['Value'])))"
      ]
    },
    {
      "cell_type": "code",
      "execution_count": 44,
      "metadata": {
        "colab": {
          "base_uri": "https://localhost:8080/",
          "height": 312
        },
        "id": "jf69cAHm3qPl",
        "outputId": "ede39af5-5edf-46b7-96be-31b588b0269b"
      },
      "outputs": [
        {
          "data": {
            "text/plain": [
              "Text(0.5, 0, 'Tons')"
            ]
          },
          "execution_count": 44,
          "metadata": {},
          "output_type": "execute_result"
        },
        {
          "data": {
            "image/png": "[encoded data removed]",
            "text/plain": [
              "<Figure size 432x288 with 1 Axes>"
            ]
          },
          "metadata": {
            "needs_background": "light"
          },
          "output_type": "display_data"
        }
      ],
      "source": [
        "ax =df['Value'].plot(kind='hist',bins=5, title=\"Values in Tons\")\n",
        "ax.set_xlabel(\"Tons\")"
      ]
    },
    {
      "cell_type": "code",
      "execution_count": 45,
      "metadata": {
        "colab": {
          "base_uri": "https://localhost:8080/"
        },
        "id": "j-b4YOIa4ch1",
        "outputId": "8968141a-5a92-4ca0-d8bf-2f4d1c71b4a6"
      },
      "outputs": [
        {
          "name": "stdout",
          "output_type": "stream",
          "text": [
            "['E' 'A']\n"
          ]
        }
      ],
      "source": [
        "print(df.Flag.unique())"
      ]
    },
    {
      "cell_type": "markdown",
      "metadata": {
        "id": "-5lModgysvku"
      },
      "source": [
        "# **Step-2: Data Preperation**"
      ]
    },
    {
      "cell_type": "code",
      "execution_count": 59,
      "metadata": {
        "id": "gbNWPCuRvw64"
      },
      "outputs": [],
      "source": [
        "custom_df = pd.DataFrame()"
      ]
    },
    {
      "cell_type": "code",
      "execution_count": 60,
      "metadata": {
        "id": "6j_u6JYQv2BO"
      },
      "outputs": [],
      "source": [
        "custom_df[\"Area\"] = df['Area']\n",
        "custom_df[\"Item\"] = df['Item']\n",
        "custom_df[\"Element\"] = df[\"Element\"]\n",
        "custom_df[\"Year\"] = df[\"Year\"]\n",
        "custom_df[\"Value\"] = df[\"Value\"]"
      ]
    },
    {
      "cell_type": "code",
      "execution_count": 68,
      "metadata": {
        "colab": {
          "base_uri": "https://localhost:8080/",
          "height": 363
        },
        "id": "zfbMhe-3wqXn",
        "outputId": "053bba84-71c1-4f60-f315-a311e6afb6e7"
      },
      "outputs": [
        {
          "data": {
            "text/html": [
              "\n",
              "  <div id=\"df-5dc9a285-29e9-48f2-b30b-9b62e63ac9f7\">\n",
              "    <div class=\"colab-df-container\">\n",
              "      <div>\n",
              "<style scoped>\n",
              "    .dataframe tbody tr th:only-of-type {\n",
              "        vertical-align: middle;\n",
              "    }\n",
              "\n",
              "    .dataframe tbody tr th {\n",
              "        vertical-align: top;\n",
              "    }\n",
              "\n",
              "    .dataframe thead th {\n",
              "        text-align: right;\n",
              "    }\n",
              "</style>\n",
              "<table border=\"1\" class=\"dataframe\">\n",
              "  <thead>\n",
              "    <tr style=\"text-align: right;\">\n",
              "      <th></th>\n",
              "      <th>Area</th>\n",
              "      <th>Item</th>\n",
              "      <th>Element</th>\n",
              "      <th>Year</th>\n",
              "      <th>Value</th>\n",
              "    </tr>\n",
              "  </thead>\n",
              "  <tbody>\n",
              "    <tr>\n",
              "      <th>0</th>\n",
              "      <td>Afghanistan</td>\n",
              "      <td>All Crops</td>\n",
              "      <td>Biomass burned (dry matter)</td>\n",
              "      <td>1961</td>\n",
              "      <td>1508670.0</td>\n",
              "    </tr>\n",
              "    <tr>\n",
              "      <th>1</th>\n",
              "      <td>Afghanistan</td>\n",
              "      <td>All Crops</td>\n",
              "      <td>Biomass burned (dry matter)</td>\n",
              "      <td>1962</td>\n",
              "      <td>1553070.0</td>\n",
              "    </tr>\n",
              "    <tr>\n",
              "      <th>2</th>\n",
              "      <td>Afghanistan</td>\n",
              "      <td>All Crops</td>\n",
              "      <td>Biomass burned (dry matter)</td>\n",
              "      <td>1963</td>\n",
              "      <td>1553070.0</td>\n",
              "    </tr>\n",
              "    <tr>\n",
              "      <th>3</th>\n",
              "      <td>Afghanistan</td>\n",
              "      <td>All Crops</td>\n",
              "      <td>Biomass burned (dry matter)</td>\n",
              "      <td>1964</td>\n",
              "      <td>1565170.0</td>\n",
              "    </tr>\n",
              "    <tr>\n",
              "      <th>4</th>\n",
              "      <td>Afghanistan</td>\n",
              "      <td>All Crops</td>\n",
              "      <td>Biomass burned (dry matter)</td>\n",
              "      <td>1965</td>\n",
              "      <td>1561100.0</td>\n",
              "    </tr>\n",
              "    <tr>\n",
              "      <th>5</th>\n",
              "      <td>Afghanistan</td>\n",
              "      <td>All Crops</td>\n",
              "      <td>Biomass burned (dry matter)</td>\n",
              "      <td>1966</td>\n",
              "      <td>1561800.0</td>\n",
              "    </tr>\n",
              "    <tr>\n",
              "      <th>6</th>\n",
              "      <td>Afghanistan</td>\n",
              "      <td>All Crops</td>\n",
              "      <td>Biomass burned (dry matter)</td>\n",
              "      <td>1967</td>\n",
              "      <td>1469600.0</td>\n",
              "    </tr>\n",
              "    <tr>\n",
              "      <th>7</th>\n",
              "      <td>Afghanistan</td>\n",
              "      <td>All Crops</td>\n",
              "      <td>Biomass burned (dry matter)</td>\n",
              "      <td>1968</td>\n",
              "      <td>1382000.0</td>\n",
              "    </tr>\n",
              "    <tr>\n",
              "      <th>8</th>\n",
              "      <td>Afghanistan</td>\n",
              "      <td>All Crops</td>\n",
              "      <td>Biomass burned (dry matter)</td>\n",
              "      <td>1969</td>\n",
              "      <td>1399925.0</td>\n",
              "    </tr>\n",
              "    <tr>\n",
              "      <th>9</th>\n",
              "      <td>Afghanistan</td>\n",
              "      <td>All Crops</td>\n",
              "      <td>Biomass burned (dry matter)</td>\n",
              "      <td>1970</td>\n",
              "      <td>1435125.0</td>\n",
              "    </tr>\n",
              "  </tbody>\n",
              "</table>\n",
              "</div>\n",
              "      <button class=\"colab-df-convert\" onclick=\"convertToInteractive('df-5dc9a285-29e9-48f2-b30b-9b62e63ac9f7')\"\n",
              "              title=\"Convert this dataframe to an interactive table.\"\n",
              "              style=\"display:none;\">\n",
              "        \n",
              "  <svg xmlns=\"http://www.w3.org/2000/svg\" height=\"24px\"viewBox=\"0 0 24 24\"\n",
              "       width=\"24px\">\n",
              "    <path d=\"M0 0h24v24H0V0z\" fill=\"none\"/>\n",
              "    <path d=\"M18.56 5.44l.94 2.06.94-2.06 2.06-.94-2.06-.94-.94-2.06-.94 2.06-2.06.94zm-11 1L8.5 8.5l.94-2.06 2.06-.94-2.06-.94L8.5 2.5l-.94 2.06-2.06.94zm10 10l.94 2.06.94-2.06 2.06-.94-2.06-.94-.94-2.06-.94 2.06-2.06.94z\"/><path d=\"M17.41 7.96l-1.37-1.37c-.4-.4-.92-.59-1.43-.59-.52 0-1.04.2-1.43.59L10.3 9.45l-7.72 7.72c-.78.78-.78 2.05 0 2.83L4 21.41c.39.39.9.59 1.41.59.51 0 1.02-.2 1.41-.59l7.78-7.78 2.81-2.81c.8-.78.8-2.07 0-2.86zM5.41 20L4 18.59l7.72-7.72 1.47 1.35L5.41 20z\"/>\n",
              "  </svg>\n",
              "      </button>\n",
              "      \n",
              "  <style>\n",
              "    .colab-df-container {\n",
              "      display:flex;\n",
              "      flex-wrap:wrap;\n",
              "      gap: 12px;\n",
              "    }\n",
              "\n",
              "    .colab-df-convert {\n",
              "      background-color: #E8F0FE;\n",
              "      border: none;\n",
              "      border-radius: 50%;\n",
              "      cursor: pointer;\n",
              "      display: none;\n",
              "      fill: #1967D2;\n",
              "      height: 32px;\n",
              "      padding: 0 0 0 0;\n",
              "      width: 32px;\n",
              "    }\n",
              "\n",
              "    .colab-df-convert:hover {\n",
              "      background-color: #E2EBFA;\n",
              "      box-shadow: 0px 1px 2px rgba(60, 64, 67, 0.3), 0px 1px 3px 1px rgba(60, 64, 67, 0.15);\n",
              "      fill: #174EA6;\n",
              "    }\n",
              "\n",
              "    [theme=dark] .colab-df-convert {\n",
              "      background-color: #3B4455;\n",
              "      fill: #D2E3FC;\n",
              "    }\n",
              "\n",
              "    [theme=dark] .colab-df-convert:hover {\n",
              "      background-color: #434B5C;\n",
              "      box-shadow: 0px 1px 3px 1px rgba(0, 0, 0, 0.15);\n",
              "      filter: drop-shadow(0px 1px 2px rgba(0, 0, 0, 0.3));\n",
              "      fill: #FFFFFF;\n",
              "    }\n",
              "  </style>\n",
              "\n",
              "      <script>\n",
              "        const buttonEl =\n",
              "          document.querySelector('#df-5dc9a285-29e9-48f2-b30b-9b62e63ac9f7 button.colab-df-convert');\n",
              "        buttonEl.style.display =\n",
              "          google.colab.kernel.accessAllowed ? 'block' : 'none';\n",
              "\n",
              "        async function convertToInteractive(key) {\n",
              "          const element = document.querySelector('#df-5dc9a285-29e9-48f2-b30b-9b62e63ac9f7');\n",
              "          const dataTable =\n",
              "            await google.colab.kernel.invokeFunction('convertToInteractive',\n",
              "                                                     [key], {});\n",
              "          if (!dataTable) return;\n",
              "\n",
              "          const docLinkHtml = 'Like what you see? Visit the ' +\n",
              "            '<a target=\"_blank\" href=https://colab.research.google.com/notebooks/data_table.ipynb>data table notebook</a>'\n",
              "            + ' to learn more about interactive tables.';\n",
              "          element.innerHTML = '';\n",
              "          dataTable['output_type'] = 'display_data';\n",
              "          await google.colab.output.renderOutput(dataTable, element);\n",
              "          const docLink = document.createElement('div');\n",
              "          docLink.innerHTML = docLinkHtml;\n",
              "          element.appendChild(docLink);\n",
              "        }\n",
              "      </script>\n",
              "    </div>\n",
              "  </div>\n",
              "  "
            ],
            "text/plain": [
              "          Area       Item                      Element  Year      Value\n",
              "0  Afghanistan  All Crops  Biomass burned (dry matter)  1961  1508670.0\n",
              "1  Afghanistan  All Crops  Biomass burned (dry matter)  1962  1553070.0\n",
              "2  Afghanistan  All Crops  Biomass burned (dry matter)  1963  1553070.0\n",
              "3  Afghanistan  All Crops  Biomass burned (dry matter)  1964  1565170.0\n",
              "4  Afghanistan  All Crops  Biomass burned (dry matter)  1965  1561100.0\n",
              "5  Afghanistan  All Crops  Biomass burned (dry matter)  1966  1561800.0\n",
              "6  Afghanistan  All Crops  Biomass burned (dry matter)  1967  1469600.0\n",
              "7  Afghanistan  All Crops  Biomass burned (dry matter)  1968  1382000.0\n",
              "8  Afghanistan  All Crops  Biomass burned (dry matter)  1969  1399925.0\n",
              "9  Afghanistan  All Crops  Biomass burned (dry matter)  1970  1435125.0"
            ]
          },
          "execution_count": 68,
          "metadata": {},
          "output_type": "execute_result"
        }
      ],
      "source": [
        "custom_df.head(10)"
      ]
    },
    {
      "cell_type": "code",
      "execution_count": 67,
      "metadata": {
        "cellView": "form",
        "id": "fNMNWe6-6LWs"
      },
      "outputs": [],
      "source": [
        "countries = df.Area.unique()\n",
        "#@title String fields\n",
        "From_year = \"1965\" #@param ['1961', '1962', '1963','1964','1965','1966','1967']\n",
        "To_year = \"1962\" #@param ['1961', '1962', '1963','1964','1965','1966','1967']\n",
        "Country = \"Afghanistan\" #@param ['Total World','Afghanistan','Albania','Algeria','American Samoa','Angola']\n",
        "Items = \"All Crops\" #@param ['All Crops','Maize (corn)','Rice','Sugar cane','Wheat']\n",
        "Element = \"Biomass burned (dry matter)\" #@param ['Biomass burned (dry matter)','Emissions (N2O)','Emissions (CH4)']"
      ]
    },
    {
      "cell_type": "code",
      "execution_count": 62,
      "metadata": {
        "id": "Np58F-7T9UA0"
      },
      "outputs": [],
      "source": [
        "def Year_Checking():\n",
        "  if (From_year <  To_year):\n",
        "    return True\n",
        "\n",
        "def main():\n",
        "  if (Year_Checking()== True):\n",
        "    match Country:\n",
        "      case \"Total World\":\n",
        "        pass\n",
        "      case _: #default\n",
        "        default()\n",
        "  else:\n",
        "    print(\"Select correct Range for the Year\")\n"
      ]
    },
    {
      "cell_type": "code",
      "execution_count": 63,
      "metadata": {
        "colab": {
          "base_uri": "https://localhost:8080/",
          "height": 49,
          "referenced_widgets": [
            "a1d658017253442da28daf383417d1e5",
            "af9ff32da89542b8b9b9ce76e1ae1a7c",
            "69e10a0430f84988be2f154689c13543",
            "95b2ee274bae4cd48c233386f4d385bc",
            "cb4de36f9f3b457387c6d9322f0b482f"
          ]
        },
        "id": "k8WIcpe8CkSz",
        "outputId": "403cf02e-e9d1-40da-e554-859f07e6b89e"
      },
      "outputs": [
        {
          "data": {
            "application/vnd.jupyter.widget-view+json": {
              "model_id": "a1d658017253442da28daf383417d1e5",
              "version_major": 2,
              "version_minor": 0
            },
            "text/plain": [
              "Button(description='Generate', style=ButtonStyle())"
            ]
          },
          "metadata": {},
          "output_type": "display_data"
        },
        {
          "data": {
            "application/vnd.jupyter.widget-view+json": {
              "model_id": "95b2ee274bae4cd48c233386f4d385bc",
              "version_major": 2,
              "version_minor": 0
            },
            "text/plain": [
              "Output()"
            ]
          },
          "metadata": {},
          "output_type": "display_data"
        }
      ],
      "source": [
        "import ipywidgets as widgets\n",
        "from IPython.display import display\n",
        "button = widgets.Button(description=\"Generate\")\n",
        "output = widgets.Output()\n",
        "\n",
        "def on_button_clicked(b):\n",
        "  # Display the message within the output widget.\n",
        "  with output:\n",
        "    main()\n",
        "\n",
        "button.on_click(on_button_clicked)\n",
        "display(button, output)"
      ]
    },
    {
      "cell_type": "code",
      "execution_count": 57,
      "metadata": {
        "id": "j7sNOJ4fFCwu"
      },
      "outputs": [],
      "source": [
        "for country in countries:\n",
        "  Items = []\n",
        "  Elements = []\n",
        "  for i in range(len(custom_df[\"Area\"])):\n",
        "    if custom_df[\"Area\"][i]==country:\n",
        "      Items.append(custom_df[\"Area\"][i])\n",
        "      Elements.append(custom_df[\"Area\"][i])\n",
        "  "
      ]
    },
    {
      "cell_type": "code",
      "execution_count": null,
      "metadata": {
        "id": "MdglWvJ0I7BT"
      },
      "outputs": [],
      "source": [
        "def default():\n",
        "  for country in countries:\n",
        "    Items = []\n",
        "    Elements = []\n",
        "    for i in range(len(custom_df[\"Area\"])):\n",
        "      if custom_df[\"Area\"][i]==country:\n",
        "        Items.append(custom_df[\"Area\"][i])\n",
        "        Elements.append(custom_df[\"Area\"][i])"
      ]
    },
    {
      "cell_type": "code",
      "execution_count": 70,
      "metadata": {
        "colab": {
          "base_uri": "https://localhost:8080/"
        },
        "id": "N3B_hZvqGpgk",
        "outputId": "c610f699-ec50-4379-cf93-3cec995635f9"
      },
      "outputs": [
        {
          "data": {
            "text/plain": [
              "2000    2915\n",
              "1994    2892\n",
              "2019    2848\n",
              "2018    2848\n",
              "2005    2833\n",
              "        ... \n",
              "1962    2331\n",
              "1961    2331\n",
              "1965    2328\n",
              "1964    2328\n",
              "1963    2328\n",
              "Name: Year, Length: 62, dtype: int64"
            ]
          },
          "execution_count": 70,
          "metadata": {},
          "output_type": "execute_result"
        }
      ],
      "source": [
        "custom_df[\"Year\"].value_counts()"
      ]
    }
  ],
  "metadata": {
    "colab": {
      "provenance": []
    },
    "kernelspec": {
      "display_name": "faostat",
      "language": "python",
      "name": "python3"
    },
    "language_info": {
      "name": "python",
      "version": "3.9.15 (main, Nov 24 2022, 14:39:17) [MSC v.1916 64 bit (AMD64)]"
    },
    "vscode": {
      "interpreter": {
        "hash": "f892eb7e1c2bdc010a454a9773054b86ff8f983e0f897586dcfa8b8fb0becd85"
      }
    },
    "widgets": {
      "application/vnd.jupyter.widget-state+json": {
        "69e10a0430f84988be2f154689c13543": {
          "model_module": "@jupyter-widgets/controls",
          "model_module_version": "1.5.0",
          "model_name": "ButtonStyleModel",
          "state": {
            "_model_module": "@jupyter-widgets/controls",
            "_model_module_version": "1.5.0",
            "_model_name": "ButtonStyleModel",
            "_view_count": null,
            "_view_module": "@jupyter-widgets/base",
            "_view_module_version": "1.2.0",
            "_view_name": "StyleView",
            "button_color": null,
            "font_weight": ""
          }
        },
        "95b2ee274bae4cd48c233386f4d385bc": {
          "model_module": "@jupyter-widgets/output",
          "model_module_version": "1.0.0",
          "model_name": "OutputModel",
          "state": {
            "_dom_classes": [],
            "_model_module": "@jupyter-widgets/output",
            "_model_module_version": "1.0.0",
            "_model_name": "OutputModel",
            "_view_count": null,
            "_view_module": "@jupyter-widgets/output",
            "_view_module_version": "1.0.0",
            "_view_name": "OutputView",
            "layout": "IPY_MODEL_cb4de36f9f3b457387c6d9322f0b482f",
            "msg_id": "",
            "outputs": []
          }
        },
        "a1d658017253442da28daf383417d1e5": {
          "model_module": "@jupyter-widgets/controls",
          "model_module_version": "1.5.0",
          "model_name": "ButtonModel",
          "state": {
            "_dom_classes": [],
            "_model_module": "@jupyter-widgets/controls",
            "_model_module_version": "1.5.0",
            "_model_name": "ButtonModel",
            "_view_count": null,
            "_view_module": "@jupyter-widgets/controls",
            "_view_module_version": "1.5.0",
            "_view_name": "ButtonView",
            "button_style": "",
            "description": "Generate",
            "disabled": false,
            "icon": "",
            "layout": "IPY_MODEL_af9ff32da89542b8b9b9ce76e1ae1a7c",
            "style": "IPY_MODEL_69e10a0430f84988be2f154689c13543",
            "tooltip": ""
          }
        },
        "af9ff32da89542b8b9b9ce76e1ae1a7c": {
          "model_module": "@jupyter-widgets/base",
          "model_module_version": "1.2.0",
          "model_name": "LayoutModel",
          "state": {
            "_model_module": "@jupyter-widgets/base",
            "_model_module_version": "1.2.0",
            "_model_name": "LayoutModel",
            "_view_count": null,
            "_view_module": "@jupyter-widgets/base",
            "_view_module_version": "1.2.0",
            "_view_name": "LayoutView",
            "align_content": null,
            "align_items": null,
            "align_self": null,
            "border": null,
            "bottom": null,
            "display": null,
            "flex": null,
            "flex_flow": null,
            "grid_area": null,
            "grid_auto_columns": null,
            "grid_auto_flow": null,
            "grid_auto_rows": null,
            "grid_column": null,
            "grid_gap": null,
            "grid_row": null,
            "grid_template_areas": null,
            "grid_template_columns": null,
            "grid_template_rows": null,
            "height": null,
            "justify_content": null,
            "justify_items": null,
            "left": null,
            "margin": null,
            "max_height": null,
            "max_width": null,
            "min_height": null,
            "min_width": null,
            "object_fit": null,
            "object_position": null,
            "order": null,
            "overflow": null,
            "overflow_x": null,
            "overflow_y": null,
            "padding": null,
            "right": null,
            "top": null,
            "visibility": null,
            "width": null
          }
        },
        "cb4de36f9f3b457387c6d9322f0b482f": {
          "model_module": "@jupyter-widgets/base",
          "model_module_version": "1.2.0",
          "model_name": "LayoutModel",
          "state": {
            "_model_module": "@jupyter-widgets/base",
            "_model_module_version": "1.2.0",
            "_model_name": "LayoutModel",
            "_view_count": null,
            "_view_module": "@jupyter-widgets/base",
            "_view_module_version": "1.2.0",
            "_view_name": "LayoutView",
            "align_content": null,
            "align_items": null,
            "align_self": null,
            "border": null,
            "bottom": null,
            "display": null,
            "flex": null,
            "flex_flow": null,
            "grid_area": null,
            "grid_auto_columns": null,
            "grid_auto_flow": null,
            "grid_auto_rows": null,
            "grid_column": null,
            "grid_gap": null,
            "grid_row": null,
            "grid_template_areas": null,
            "grid_template_columns": null,
            "grid_template_rows": null,
            "height": null,
            "justify_content": null,
            "justify_items": null,
            "left": null,
            "margin": null,
            "max_height": null,
            "max_width": null,
            "min_height": null,
            "min_width": null,
            "object_fit": null,
            "object_position": null,
            "order": null,
            "overflow": null,
            "overflow_x": null,
            "overflow_y": null,
            "padding": null,
            "right": null,
            "top": null,
            "visibility": null,
            "width": null
          }
        }
      }
    }
  },
  "nbformat": 4,
  "nbformat_minor": 0
}
